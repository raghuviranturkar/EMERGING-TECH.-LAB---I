{
 "cells": [
  {
   "cell_type": "markdown",
   "id": "f61ab876-df06-4879-a18f-520faf9d6065",
   "metadata": {},
   "source": [
    "<h1 style=\"color: darkblue; text-align: center; font-family: Arial, sans-serif; font-size: 32px;\">\n",
    "  Basics of Data frame\n",
    "</h1>\n"
   ]
  },
  {
   "cell_type": "code",
   "execution_count": 1,
   "id": "53dbabf0-2e6f-47e1-a3fb-40e6d02f63db",
   "metadata": {},
   "outputs": [],
   "source": [
    "# EXP NO: 3"
   ]
  },
  {
   "cell_type": "code",
   "execution_count": 4,
   "id": "7fa58474-5808-4609-9731-31ff455744a3",
   "metadata": {},
   "outputs": [],
   "source": [
    "#Aim: To understand the structure and operations of DataFrames for efficient data manipulation using Pandas."
   ]
  },
  {
   "cell_type": "code",
   "execution_count": 5,
   "id": "094f21a6-8a1e-4923-a785-493b1e625a89",
   "metadata": {},
   "outputs": [],
   "source": [
    "#Name: Raghuvir V. Anturkar \n",
    "#Roll no: 03\n",
    "#sec: A\n",
    "#subject: EMERGING TECH. LAB - I"
   ]
  },
  {
   "cell_type": "code",
   "execution_count": 6,
   "id": "67e7113c-1f28-465d-bedc-63ff194fc154",
   "metadata": {},
   "outputs": [
    {
     "name": "stdout",
     "output_type": "stream",
     "text": [
      "The history saving thread hit an unexpected error (OperationalError('attempt to write a readonly database')).History will not be written to the database.\n"
     ]
    }
   ],
   "source": [
    "import pandas as pd"
   ]
  },
  {
   "cell_type": "code",
   "execution_count": 7,
   "id": "36569f10-ad66-491b-aa17-49fe83300b3e",
   "metadata": {},
   "outputs": [
    {
     "name": "stdout",
     "output_type": "stream",
     "text": [
      "      Name  Age      City\n",
      "0    Alice   24  New York\n",
      "1      Bob   27     Paris\n",
      "2  Charlie   22    London\n",
      "3    David   32     Tokyo\n"
     ]
    }
   ],
   "source": [
    "# Creating a simple DataFrame using a dictionary\n",
    "data = {\n",
    "    'Name': ['Alice', 'Bob', 'Charlie', 'David'],\n",
    "    'Age': [24, 27, 22, 32],\n",
    "    'City': ['New York', 'Paris', 'London', 'Tokyo']\n",
    "}\n",
    "\n",
    "df = pd.DataFrame(data)\n",
    "print(df)"
   ]
  },
  {
   "cell_type": "code",
   "execution_count": 11,
   "id": "8975a35d-23f2-4c05-acae-6973f50dd422",
   "metadata": {},
   "outputs": [
    {
     "name": "stdout",
     "output_type": "stream",
     "text": [
      "Shape of DataFrame: (4, 3)\n"
     ]
    }
   ],
   "source": [
    "print(\"Shape of DataFrame:\", df.shape)"
   ]
  },
  {
   "cell_type": "code",
   "execution_count": 12,
   "id": "c8883aeb-23fe-46da-8e49-4ce0db25c64e",
   "metadata": {},
   "outputs": [
    {
     "name": "stdout",
     "output_type": "stream",
     "text": [
      "Data Types:\n",
      " Name    object\n",
      "Age      int64\n",
      "City    object\n",
      "dtype: object\n"
     ]
    }
   ],
   "source": [
    "print(\"Data Types:\\n\", df.dtypes)"
   ]
  },
  {
   "cell_type": "code",
   "execution_count": 13,
   "id": "c4764e38-95c3-4e2c-9b55-8689d42f8ff3",
   "metadata": {},
   "outputs": [
    {
     "name": "stdout",
     "output_type": "stream",
     "text": [
      "Columns: Index(['Name', 'Age', 'City'], dtype='object')\n"
     ]
    }
   ],
   "source": [
    "print(\"Columns:\", df.columns)"
   ]
  },
  {
   "cell_type": "code",
   "execution_count": 14,
   "id": "6c32f323-bd0e-4a57-a653-a0ae9487bd93",
   "metadata": {},
   "outputs": [
    {
     "name": "stdout",
     "output_type": "stream",
     "text": [
      "Index: RangeIndex(start=0, stop=4, step=1)\n"
     ]
    }
   ],
   "source": [
    "print(\"Index:\", df.index)"
   ]
  },
  {
   "cell_type": "code",
   "execution_count": 15,
   "id": "585cd97e-81d9-4a57-86b3-c88e90242678",
   "metadata": {},
   "outputs": [
    {
     "name": "stdout",
     "output_type": "stream",
     "text": [
      "Name column:\n",
      " 0      Alice\n",
      "1        Bob\n",
      "2    Charlie\n",
      "3      David\n",
      "Name: Name, dtype: object\n"
     ]
    }
   ],
   "source": [
    "print(\"Name column:\\n\", df['Name'])"
   ]
  },
  {
   "cell_type": "code",
   "execution_count": 16,
   "id": "b4870218-fff2-4046-baba-bbf0ec585d53",
   "metadata": {},
   "outputs": [
    {
     "name": "stdout",
     "output_type": "stream",
     "text": [
      "Row at index 1:\n",
      " Name      Bob\n",
      "Age        27\n",
      "City    Paris\n",
      "Name: 1, dtype: object\n"
     ]
    }
   ],
   "source": [
    "print(\"Row at index 1:\\n\", df.loc[1])"
   ]
  },
  {
   "cell_type": "code",
   "execution_count": 17,
   "id": "7b58553e-e8c0-40d6-aa95-06154e5ba54f",
   "metadata": {},
   "outputs": [
    {
     "name": "stdout",
     "output_type": "stream",
     "text": [
      "First two rows:\n",
      "     Name  Age      City\n",
      "0  Alice   24  New York\n",
      "1    Bob   27     Paris\n"
     ]
    }
   ],
   "source": [
    "print(\"First two rows:\\n\", df.iloc[:2])"
   ]
  },
  {
   "cell_type": "code",
   "execution_count": 18,
   "id": "21fda09c-7576-44d7-be4c-7f654389e94c",
   "metadata": {},
   "outputs": [],
   "source": [
    "# Add a new column\n",
    "df['Score'] = [85, 90, 88, 92]\n"
   ]
  },
  {
   "cell_type": "code",
   "execution_count": 19,
   "id": "fe0d960e-ba96-4a99-b8dd-deb171941657",
   "metadata": {},
   "outputs": [
    {
     "name": "stdout",
     "output_type": "stream",
     "text": [
      "      Name  Age      City  Score\n",
      "0    Alice   25  New York     85\n",
      "1      Bob   27     Paris     90\n",
      "2  Charlie   22    London     88\n",
      "3    David   32     Tokyo     92\n"
     ]
    }
   ],
   "source": [
    "df.at[0, 'Age'] = 25\n",
    "\n",
    "print(df)"
   ]
  },
  {
   "cell_type": "code",
   "execution_count": 20,
   "id": "e946f077-cac7-4587-9a58-def9da3f0c82",
   "metadata": {},
   "outputs": [
    {
     "name": "stdout",
     "output_type": "stream",
     "text": [
      "Summary Statistics:\n",
      "              Age      Score\n",
      "count   4.000000   4.000000\n",
      "mean   26.500000  88.750000\n",
      "std     4.203173   2.986079\n",
      "min    22.000000  85.000000\n",
      "25%    24.250000  87.250000\n",
      "50%    26.000000  89.000000\n",
      "75%    28.250000  90.500000\n",
      "max    32.000000  92.000000\n"
     ]
    }
   ],
   "source": [
    "print(\"Summary Statistics:\\n\", df.describe())"
   ]
  },
  {
   "cell_type": "code",
   "execution_count": 22,
   "id": "ac272a2f-33bd-49c3-9501-bf5ec7c2dc06",
   "metadata": {},
   "outputs": [
    {
     "name": "stdout",
     "output_type": "stream",
     "text": [
      "Sorted by Age:\n",
      "       Name  Age      City  Score\n",
      "2  Charlie   22    London     88\n",
      "0    Alice   25  New York     85\n",
      "1      Bob   27     Paris     90\n",
      "3    David   32     Tokyo     92\n"
     ]
    }
   ],
   "source": [
    "# Sort by Age\n",
    "sorted_df = df.sort_values(by='Age')\n",
    "print(\"Sorted by Age:\\n\", sorted_df)"
   ]
  },
  {
   "cell_type": "code",
   "execution_count": 24,
   "id": "214d9874-3ec4-4d18-8f44-972c43be1abe",
   "metadata": {},
   "outputs": [
    {
     "name": "stdout",
     "output_type": "stream",
     "text": [
      "Score > 88:\n",
      "     Name  Age   City  Score\n",
      "1    Bob   27  Paris     90\n",
      "3  David   32  Tokyo     92\n"
     ]
    }
   ],
   "source": [
    "\n",
    "# Filter rows where Score > 88\n",
    "filtered_df = df[df['Score'] > 88]\n",
    "print(\"Score > 88:\\n\", filtered_df)\n"
   ]
  },
  {
   "cell_type": "markdown",
   "id": "44cd1f9d-d0b7-47d6-bed8-18f9ec55cb23",
   "metadata": {},
   "source": [
    "### ✅ Conclusion:\n",
    "This practical provided hands-on experience with creating and manipulating Pandas DataFrames. Key operations such as accessing data, modifying values, filtering, and summarizing were practiced to build a strong foundation in data handling and analysis using Python.\n"
   ]
  },
  {
   "cell_type": "code",
   "execution_count": null,
   "id": "3b9618e5-6d42-4526-b1f1-a480a44b91ca",
   "metadata": {},
   "outputs": [],
   "source": []
  }
 ],
 "metadata": {
  "kernelspec": {
   "display_name": "Python [conda env:base] *",
   "language": "python",
   "name": "conda-base-py"
  },
  "language_info": {
   "codemirror_mode": {
    "name": "ipython",
    "version": 3
   },
   "file_extension": ".py",
   "mimetype": "text/x-python",
   "name": "python",
   "nbconvert_exporter": "python",
   "pygments_lexer": "ipython3",
   "version": "3.13.5"
  }
 },
 "nbformat": 4,
 "nbformat_minor": 5
}
