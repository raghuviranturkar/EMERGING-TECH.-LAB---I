{
 "cells": [
  {
   "cell_type": "markdown",
   "id": "4a1e7ef8-0820-4293-93b5-a68173edff48",
   "metadata": {},
   "source": [
    "<h1 style=\"color: darkblue; text-align: center; font-family: Arial, sans-serif; font-size: 32px;\">\n",
    "  Creation of arrays using numpy\n",
    "</h1>\n"
   ]
  },
  {
   "cell_type": "code",
   "execution_count": 1,
   "id": "945e42cd-272e-4be0-bf9d-3387b6587d6f",
   "metadata": {},
   "outputs": [],
   "source": [
    "#EXP NO: 5"
   ]
  },
  {
   "cell_type": "code",
   "execution_count": 2,
   "id": "fe3bd300-f39d-473d-980f-d08d78542f50",
   "metadata": {},
   "outputs": [],
   "source": [
    "#Aim: To create and manipulate arrays using NumPy for efficient numerical computations in Python."
   ]
  },
  {
   "cell_type": "code",
   "execution_count": 3,
   "id": "2fe35194-021e-4078-bf0e-947bd21e484f",
   "metadata": {},
   "outputs": [],
   "source": [
    "#Name: Raghuvir V. Anturkar \n",
    "#Roll no: 03\n",
    "#sec: A\n",
    "#subject: EMERGING TECH. LAB - I"
   ]
  },
  {
   "cell_type": "code",
   "execution_count": 4,
   "id": "2b078dea-8746-45cf-8f23-9c775c824f63",
   "metadata": {},
   "outputs": [
    {
     "name": "stdout",
     "output_type": "stream",
     "text": [
      "The history saving thread hit an unexpected error (OperationalError('attempt to write a readonly database')).History will not be written to the database.\n"
     ]
    }
   ],
   "source": [
    "import numpy as np\n"
   ]
  },
  {
   "cell_type": "code",
   "execution_count": 5,
   "id": "ebd81ea9-b037-4ff1-9a22-237a052f1934",
   "metadata": {},
   "outputs": [
    {
     "name": "stdout",
     "output_type": "stream",
     "text": [
      "1D Array: [1 2 3 4 5]\n",
      "2D Array:\n",
      " [[1 2 3]\n",
      " [4 5 6]]\n",
      "3D Array:\n",
      " [[[1]\n",
      "  [2]]\n",
      "\n",
      " [[3]\n",
      "  [4]]]\n"
     ]
    }
   ],
   "source": [
    "# 1D Array\n",
    "arr1d = np.array([1, 2, 3, 4, 5])\n",
    "print(\"1D Array:\", arr1d)\n",
    "\n",
    "# 2D Array\n",
    "arr2d = np.array([[1, 2, 3], [4, 5, 6]])\n",
    "print(\"2D Array:\\n\", arr2d)\n",
    "\n",
    "# 3D Array\n",
    "arr3d = np.array([[[1], [2]], [[3], [4]]])\n",
    "print(\"3D Array:\\n\", arr3d)\n"
   ]
  },
  {
   "cell_type": "code",
   "execution_count": 6,
   "id": "3b9d1234-49f2-41a5-b50f-085def23ba7c",
   "metadata": {},
   "outputs": [
    {
     "name": "stdout",
     "output_type": "stream",
     "text": [
      "Zeros Array:\n",
      " [[0. 0. 0.]\n",
      " [0. 0. 0.]]\n",
      "Ones Array:\n",
      " [[1. 1. 1.]\n",
      " [1. 1. 1.]\n",
      " [1. 1. 1.]]\n",
      "Identity Matrix:\n",
      " [[1. 0. 0.]\n",
      " [0. 1. 0.]\n",
      " [0. 0. 1.]]\n",
      "Array with np.arange:\n",
      " [0 2 4 6 8]\n",
      "Array with np.linspace:\n",
      " [0.   0.25 0.5  0.75 1.  ]\n"
     ]
    }
   ],
   "source": [
    "# Array of zeros\n",
    "zeros_arr = np.zeros((2, 3))\n",
    "print(\"Zeros Array:\\n\", zeros_arr)\n",
    "\n",
    "# Array of ones\n",
    "ones_arr = np.ones((3, 3))\n",
    "print(\"Ones Array:\\n\", ones_arr)\n",
    "\n",
    "# Identity matrix\n",
    "identity_arr = np.eye(3)\n",
    "print(\"Identity Matrix:\\n\", identity_arr)\n",
    "\n",
    "# Range of numbers\n",
    "range_arr = np.arange(0, 10, 2)\n",
    "print(\"Array with np.arange:\\n\", range_arr)\n",
    "\n",
    "# Evenly spaced values\n",
    "linspace_arr = np.linspace(0, 1, 5)\n",
    "print(\"Array with np.linspace:\\n\", linspace_arr)\n"
   ]
  },
  {
   "cell_type": "code",
   "execution_count": 7,
   "id": "71c788b9-5686-4b5a-ac93-9781e1800685",
   "metadata": {},
   "outputs": [
    {
     "name": "stdout",
     "output_type": "stream",
     "text": [
      "Shape of arr2d: (2, 3)\n",
      "Size of arr2d: 6\n",
      "Data type of arr2d: int64\n"
     ]
    }
   ],
   "source": [
    "print(\"Shape of arr2d:\", arr2d.shape)\n",
    "print(\"Size of arr2d:\", arr2d.size)\n",
    "print(\"Data type of arr2d:\", arr2d.dtype)\n"
   ]
  },
  {
   "cell_type": "code",
   "execution_count": 8,
   "id": "561b70d5-8b6f-4105-8752-93ca75e7ba48",
   "metadata": {},
   "outputs": [
    {
     "name": "stdout",
     "output_type": "stream",
     "text": [
      "Reshaped Array:\n",
      " [[1 2]\n",
      " [3 4]\n",
      " [5 6]]\n",
      "First row of arr2d: [1 2 3]\n",
      "Element at row 1, col 2: 6\n"
     ]
    }
   ],
   "source": [
    "reshaped = arr2d.reshape(3, 2)\n",
    "print(\"Reshaped Array:\\n\", reshaped)\n",
    "\n",
    "# Slicing\n",
    "print(\"First row of arr2d:\", arr2d[0])\n",
    "print(\"Element at row 1, col 2:\", arr2d[1, 2])\n"
   ]
  },
  {
   "cell_type": "code",
   "execution_count": 9,
   "id": "ddfc378f-4499-4e28-90c5-2d68fa1c549d",
   "metadata": {},
   "outputs": [
    {
     "name": "stdout",
     "output_type": "stream",
     "text": [
      "Addition: [5 7 9]\n",
      "Multiplication: [ 4 10 18]\n",
      "Square root: [1.         1.41421356 1.73205081]\n"
     ]
    }
   ],
   "source": [
    "a = np.array([1, 2, 3])\n",
    "b = np.array([4, 5, 6])\n",
    "\n",
    "print(\"Addition:\", a + b)\n",
    "print(\"Multiplication:\", a * b)\n",
    "print(\"Square root:\", np.sqrt(a))\n"
   ]
  },
  {
   "cell_type": "markdown",
   "id": "fedd6a31-32e8-4b79-85a2-a5192ec29ae0",
   "metadata": {},
   "source": [
    "### ✅ Conclusion:\n",
    "This practical covered the creation of 1D, 2D, and 3D arrays using NumPy, along with array operations like reshaping, slicing, and arithmetic.\n"
   ]
  },
  {
   "cell_type": "code",
   "execution_count": null,
   "id": "d4460052-b934-467e-befa-be20dea9d6a0",
   "metadata": {},
   "outputs": [],
   "source": []
  }
 ],
 "metadata": {
  "kernelspec": {
   "display_name": "Python [conda env:base] *",
   "language": "python",
   "name": "conda-base-py"
  },
  "language_info": {
   "codemirror_mode": {
    "name": "ipython",
    "version": 3
   },
   "file_extension": ".py",
   "mimetype": "text/x-python",
   "name": "python",
   "nbconvert_exporter": "python",
   "pygments_lexer": "ipython3",
   "version": "3.13.5"
  }
 },
 "nbformat": 4,
 "nbformat_minor": 5
}
